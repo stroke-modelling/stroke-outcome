{
 "cells": [
  {
   "cell_type": "markdown",
   "id": "01e1fbaf-a767-4a87-98ea-11a0a125b0d0",
   "metadata": {},
   "source": [
    "# Discrete outcome model demo\n",
    "\n",
    "This notebook contains a basic example of running the discrete outcome model within the `stroke-outcome` package."
   ]
  },
  {
   "cell_type": "markdown",
   "id": "add8e9e5-611e-4749-8d15-ac2aa21f54a1",
   "metadata": {},
   "source": [
    "## Notebook setup\n",
    "\n",
    "The intended versions of these packages are given in the files `environment.yml` and `requirements.txt`."
   ]
  },
  {
   "cell_type": "code",
   "execution_count": 1,
   "id": "3460e723-efc0-4f70-9c32-a807af96ce85",
   "metadata": {},
   "outputs": [],
   "source": [
    "# Import required packages\n",
    "import numpy as np\n",
    "import pandas as pd\n",
    "import copy\n",
    "\n",
    "# Imports from the stroke_outcome package:\n",
    "from stroke_outcome.discrete_outcome import Discrete_outcome\n",
    "import stroke_outcome.outcome_utilities as outcome_utilities"
   ]
  },
  {
   "cell_type": "markdown",
   "id": "dbf5d8ec-2f7f-4aa6-8e78-52a354faa53b",
   "metadata": {},
   "source": [
    "## Import reference data\n",
    "\n",
    "These functions import data from `.csv` files that are included in the `stroke-outcome` package. Each function imports both a copy of the data in the table and the notes in the header at the top of the file."
   ]
  },
  {
   "cell_type": "markdown",
   "id": "aaf7c893-0885-423e-a461-0d06863e4f9d",
   "metadata": {},
   "source": [
    "__Data set 1:__ Cumulative probability distributions of modified Rankin scale (mRS):"
   ]
  },
  {
   "cell_type": "code",
   "execution_count": 2,
   "id": "2dd0bbd4-644c-4b50-9797-1d435d128796",
   "metadata": {},
   "outputs": [],
   "source": [
    "mrs_dists, mrs_dists_notes = (\n",
    "    outcome_utilities.import_mrs_dists_from_file())"
   ]
  },
  {
   "cell_type": "code",
   "execution_count": 3,
   "id": "65781965-4849-4a17-ad74-a999999656b2",
   "metadata": {},
   "outputs": [
    {
     "data": {
      "text/html": [
       "<div>\n",
       "<style scoped>\n",
       "    .dataframe tbody tr th:only-of-type {\n",
       "        vertical-align: middle;\n",
       "    }\n",
       "\n",
       "    .dataframe tbody tr th {\n",
       "        vertical-align: top;\n",
       "    }\n",
       "\n",
       "    .dataframe thead th {\n",
       "        text-align: right;\n",
       "    }\n",
       "</style>\n",
       "<table border=\"1\" class=\"dataframe\">\n",
       "  <thead>\n",
       "    <tr style=\"text-align: right;\">\n",
       "      <th></th>\n",
       "      <th>mRS&lt;=0</th>\n",
       "      <th>mRS&lt;=1</th>\n",
       "      <th>mRS&lt;=2</th>\n",
       "      <th>mRS&lt;=3</th>\n",
       "      <th>mRS&lt;=4</th>\n",
       "      <th>mRS&lt;=5</th>\n",
       "      <th>mRS&lt;=6</th>\n",
       "    </tr>\n",
       "    <tr>\n",
       "      <th>Stroke type</th>\n",
       "      <th></th>\n",
       "      <th></th>\n",
       "      <th></th>\n",
       "      <th></th>\n",
       "      <th></th>\n",
       "      <th></th>\n",
       "      <th></th>\n",
       "    </tr>\n",
       "  </thead>\n",
       "  <tbody>\n",
       "    <tr>\n",
       "      <th>pre_stroke_nlvo</th>\n",
       "      <td>0.582881</td>\n",
       "      <td>0.745419</td>\n",
       "      <td>0.848859</td>\n",
       "      <td>0.951082</td>\n",
       "      <td>0.993055</td>\n",
       "      <td>1.000000</td>\n",
       "      <td>1.0</td>\n",
       "    </tr>\n",
       "    <tr>\n",
       "      <th>pre_stroke_nlvo_ivt_deaths</th>\n",
       "      <td>0.576469</td>\n",
       "      <td>0.737219</td>\n",
       "      <td>0.839522</td>\n",
       "      <td>0.940620</td>\n",
       "      <td>0.982131</td>\n",
       "      <td>0.989000</td>\n",
       "      <td>1.0</td>\n",
       "    </tr>\n",
       "    <tr>\n",
       "      <th>pre_stroke_lvo</th>\n",
       "      <td>0.417894</td>\n",
       "      <td>0.560853</td>\n",
       "      <td>0.679283</td>\n",
       "      <td>0.843494</td>\n",
       "      <td>0.957269</td>\n",
       "      <td>1.000000</td>\n",
       "      <td>1.0</td>\n",
       "    </tr>\n",
       "    <tr>\n",
       "      <th>pre_stroke_lvo_ivt_deaths</th>\n",
       "      <td>0.403644</td>\n",
       "      <td>0.541728</td>\n",
       "      <td>0.656119</td>\n",
       "      <td>0.814731</td>\n",
       "      <td>0.924626</td>\n",
       "      <td>0.965900</td>\n",
       "      <td>1.0</td>\n",
       "    </tr>\n",
       "    <tr>\n",
       "      <th>pre_stroke_lvo_mt_deaths</th>\n",
       "      <td>0.402850</td>\n",
       "      <td>0.540662</td>\n",
       "      <td>0.654829</td>\n",
       "      <td>0.813128</td>\n",
       "      <td>0.922807</td>\n",
       "      <td>0.964000</td>\n",
       "      <td>1.0</td>\n",
       "    </tr>\n",
       "    <tr>\n",
       "      <th>no_treatment_nlvo</th>\n",
       "      <td>0.197144</td>\n",
       "      <td>0.460000</td>\n",
       "      <td>0.580032</td>\n",
       "      <td>0.707768</td>\n",
       "      <td>0.855677</td>\n",
       "      <td>0.917702</td>\n",
       "      <td>1.0</td>\n",
       "    </tr>\n",
       "    <tr>\n",
       "      <th>no_effect_nlvo_ivt_deaths</th>\n",
       "      <td>0.197271</td>\n",
       "      <td>0.460000</td>\n",
       "      <td>0.577583</td>\n",
       "      <td>0.702252</td>\n",
       "      <td>0.845244</td>\n",
       "      <td>0.904454</td>\n",
       "      <td>1.0</td>\n",
       "    </tr>\n",
       "    <tr>\n",
       "      <th>t0_treatment_nlvo_ivt</th>\n",
       "      <td>0.429808</td>\n",
       "      <td>0.630000</td>\n",
       "      <td>0.738212</td>\n",
       "      <td>0.848427</td>\n",
       "      <td>0.929188</td>\n",
       "      <td>0.956300</td>\n",
       "      <td>1.0</td>\n",
       "    </tr>\n",
       "    <tr>\n",
       "      <th>no_treatment_lvo</th>\n",
       "      <td>0.050000</td>\n",
       "      <td>0.129000</td>\n",
       "      <td>0.265000</td>\n",
       "      <td>0.429000</td>\n",
       "      <td>0.676000</td>\n",
       "      <td>0.811000</td>\n",
       "      <td>1.0</td>\n",
       "    </tr>\n",
       "    <tr>\n",
       "      <th>no_effect_lvo_ivt_deaths</th>\n",
       "      <td>0.047898</td>\n",
       "      <td>0.123576</td>\n",
       "      <td>0.253858</td>\n",
       "      <td>0.410962</td>\n",
       "      <td>0.647576</td>\n",
       "      <td>0.776900</td>\n",
       "      <td>1.0</td>\n",
       "    </tr>\n",
       "    <tr>\n",
       "      <th>no_effect_lvo_mt_deaths</th>\n",
       "      <td>0.047781</td>\n",
       "      <td>0.123274</td>\n",
       "      <td>0.253237</td>\n",
       "      <td>0.409957</td>\n",
       "      <td>0.645993</td>\n",
       "      <td>0.775000</td>\n",
       "      <td>1.0</td>\n",
       "    </tr>\n",
       "    <tr>\n",
       "      <th>t0_treatment_lvo_ivt</th>\n",
       "      <td>0.112916</td>\n",
       "      <td>0.200000</td>\n",
       "      <td>0.327377</td>\n",
       "      <td>0.484757</td>\n",
       "      <td>0.698212</td>\n",
       "      <td>0.811443</td>\n",
       "      <td>1.0</td>\n",
       "    </tr>\n",
       "    <tr>\n",
       "      <th>t0_treatment_lvo_mt</th>\n",
       "      <td>0.314082</td>\n",
       "      <td>0.436315</td>\n",
       "      <td>0.554431</td>\n",
       "      <td>0.712335</td>\n",
       "      <td>0.853604</td>\n",
       "      <td>0.916750</td>\n",
       "      <td>1.0</td>\n",
       "    </tr>\n",
       "  </tbody>\n",
       "</table>\n",
       "</div>"
      ],
      "text/plain": [
       "                              mRS<=0    mRS<=1    mRS<=2    mRS<=3    mRS<=4  \\\n",
       "Stroke type                                                                    \n",
       "pre_stroke_nlvo             0.582881  0.745419  0.848859  0.951082  0.993055   \n",
       "pre_stroke_nlvo_ivt_deaths  0.576469  0.737219  0.839522  0.940620  0.982131   \n",
       "pre_stroke_lvo              0.417894  0.560853  0.679283  0.843494  0.957269   \n",
       "pre_stroke_lvo_ivt_deaths   0.403644  0.541728  0.656119  0.814731  0.924626   \n",
       "pre_stroke_lvo_mt_deaths    0.402850  0.540662  0.654829  0.813128  0.922807   \n",
       "no_treatment_nlvo           0.197144  0.460000  0.580032  0.707768  0.855677   \n",
       "no_effect_nlvo_ivt_deaths   0.197271  0.460000  0.577583  0.702252  0.845244   \n",
       "t0_treatment_nlvo_ivt       0.429808  0.630000  0.738212  0.848427  0.929188   \n",
       "no_treatment_lvo            0.050000  0.129000  0.265000  0.429000  0.676000   \n",
       "no_effect_lvo_ivt_deaths    0.047898  0.123576  0.253858  0.410962  0.647576   \n",
       "no_effect_lvo_mt_deaths     0.047781  0.123274  0.253237  0.409957  0.645993   \n",
       "t0_treatment_lvo_ivt        0.112916  0.200000  0.327377  0.484757  0.698212   \n",
       "t0_treatment_lvo_mt         0.314082  0.436315  0.554431  0.712335  0.853604   \n",
       "\n",
       "                              mRS<=5  mRS<=6  \n",
       "Stroke type                                   \n",
       "pre_stroke_nlvo             1.000000     1.0  \n",
       "pre_stroke_nlvo_ivt_deaths  0.989000     1.0  \n",
       "pre_stroke_lvo              1.000000     1.0  \n",
       "pre_stroke_lvo_ivt_deaths   0.965900     1.0  \n",
       "pre_stroke_lvo_mt_deaths    0.964000     1.0  \n",
       "no_treatment_nlvo           0.917702     1.0  \n",
       "no_effect_nlvo_ivt_deaths   0.904454     1.0  \n",
       "t0_treatment_nlvo_ivt       0.956300     1.0  \n",
       "no_treatment_lvo            0.811000     1.0  \n",
       "no_effect_lvo_ivt_deaths    0.776900     1.0  \n",
       "no_effect_lvo_mt_deaths     0.775000     1.0  \n",
       "t0_treatment_lvo_ivt        0.811443     1.0  \n",
       "t0_treatment_lvo_mt         0.916750     1.0  "
      ]
     },
     "execution_count": 3,
     "metadata": {},
     "output_type": "execute_result"
    }
   ],
   "source": [
    "mrs_dists"
   ]
  },
  {
   "cell_type": "code",
   "execution_count": 4,
   "id": "8085b1aa-e436-43e7-8318-5c5db8bc61c0",
   "metadata": {},
   "outputs": [
    {
     "name": "stdout",
     "output_type": "stream",
     "text": [
      "# If these change, please ensure the no-effect times are still correct.\n",
      "#\n",
      "# Acronyms:                                      No-effect times:\n",
      "#   lvo:  large-vessel occlusion                 IVT: 378mins (6.3hr)\n",
      "#   nlvo: non-large-vessel occlusion             MT:  480mins (8hr)\n",
      "#   ivt:  intra-veneous thrombolysis\n",
      "#   mt:   mechanical thrombectomy\n",
      "#   t0:   time zero, zero minutes after stroke onset.\n",
      "#\n",
      "\n"
     ]
    }
   ],
   "source": [
    "print(mrs_dists_notes)"
   ]
  },
  {
   "cell_type": "markdown",
   "id": "7e446b72-f16a-4dce-8102-7e507ea2a960",
   "metadata": {},
   "source": [
    "__Data set 2:__ Utility score for each mRS level."
   ]
  },
  {
   "cell_type": "code",
   "execution_count": 5,
   "id": "55e71a62-c948-4e25-8ea6-2f82372d956f",
   "metadata": {},
   "outputs": [],
   "source": [
    "utility_dists, utility_dists_notes = (\n",
    "    outcome_utilities.import_utility_dists_from_file())"
   ]
  },
  {
   "cell_type": "code",
   "execution_count": 6,
   "id": "c6e2548f-dd8f-4027-8aaf-1393dbfb0a75",
   "metadata": {},
   "outputs": [
    {
     "data": {
      "text/html": [
       "<div>\n",
       "<style scoped>\n",
       "    .dataframe tbody tr th:only-of-type {\n",
       "        vertical-align: middle;\n",
       "    }\n",
       "\n",
       "    .dataframe tbody tr th {\n",
       "        vertical-align: top;\n",
       "    }\n",
       "\n",
       "    .dataframe thead th {\n",
       "        text-align: right;\n",
       "    }\n",
       "</style>\n",
       "<table border=\"1\" class=\"dataframe\">\n",
       "  <thead>\n",
       "    <tr style=\"text-align: right;\">\n",
       "      <th></th>\n",
       "      <th>mRS=0</th>\n",
       "      <th>mRS=1</th>\n",
       "      <th>mRS=2</th>\n",
       "      <th>mRS=3</th>\n",
       "      <th>mRS=4</th>\n",
       "      <th>mRS=5</th>\n",
       "      <th>mRS=6</th>\n",
       "    </tr>\n",
       "    <tr>\n",
       "      <th>Name</th>\n",
       "      <th></th>\n",
       "      <th></th>\n",
       "      <th></th>\n",
       "      <th></th>\n",
       "      <th></th>\n",
       "      <th></th>\n",
       "      <th></th>\n",
       "    </tr>\n",
       "  </thead>\n",
       "  <tbody>\n",
       "    <tr>\n",
       "      <th>Wang2020</th>\n",
       "      <td>0.97</td>\n",
       "      <td>0.88</td>\n",
       "      <td>0.74</td>\n",
       "      <td>0.55</td>\n",
       "      <td>0.20</td>\n",
       "      <td>-0.19</td>\n",
       "      <td>0.0</td>\n",
       "    </tr>\n",
       "    <tr>\n",
       "      <th>Dijkland2018</th>\n",
       "      <td>0.95</td>\n",
       "      <td>0.93</td>\n",
       "      <td>0.83</td>\n",
       "      <td>0.62</td>\n",
       "      <td>0.42</td>\n",
       "      <td>0.11</td>\n",
       "      <td>0.0</td>\n",
       "    </tr>\n",
       "  </tbody>\n",
       "</table>\n",
       "</div>"
      ],
      "text/plain": [
       "              mRS=0  mRS=1  mRS=2  mRS=3  mRS=4  mRS=5  mRS=6\n",
       "Name                                                         \n",
       "Wang2020       0.97   0.88   0.74   0.55   0.20  -0.19    0.0\n",
       "Dijkland2018   0.95   0.93   0.83   0.62   0.42   0.11    0.0"
      ]
     },
     "execution_count": 6,
     "metadata": {},
     "output_type": "execute_result"
    }
   ],
   "source": [
    "utility_dists"
   ]
  },
  {
   "cell_type": "code",
   "execution_count": 7,
   "id": "b03de23e-3d9e-44db-8d71-5a33fe0b0db8",
   "metadata": {},
   "outputs": [
    {
     "name": "stdout",
     "output_type": "stream",
     "text": [
      "# \n",
      "# References:\n",
      "#   Wang et al. 2020:     Stroke. 2020;51:2411–2417\n",
      "#   Dijkland et al. 2018: Stroke. 2018;49:965–971\n",
      "\n"
     ]
    }
   ],
   "source": [
    "print(utility_dists_notes)"
   ]
  },
  {
   "cell_type": "markdown",
   "id": "714c8b56-6b4b-426f-b7f8-1af9553c9dd4",
   "metadata": {},
   "source": [
    "Choose one of these distributions to use as the utility weights:"
   ]
  },
  {
   "cell_type": "code",
   "execution_count": 8,
   "id": "46b0d7ec-9f52-4aca-8c33-15100d9f10b3",
   "metadata": {},
   "outputs": [
    {
     "data": {
      "text/plain": [
       "array([ 0.97,  0.88,  0.74,  0.55,  0.2 , -0.19,  0.  ])"
      ]
     },
     "execution_count": 8,
     "metadata": {},
     "output_type": "execute_result"
    }
   ],
   "source": [
    "utility_weights = utility_dists.loc['Wang2020'].values\n",
    "\n",
    "utility_weights"
   ]
  },
  {
   "cell_type": "markdown",
   "id": "0832341e-1563-4f5d-bf8c-9cbccfac945e",
   "metadata": {},
   "source": [
    "### Note: using custom data\n",
    "\n",
    "If you would rather use custom data for the mRS and utility distributions, you can skip the above imports. The outcome model can accept any data in these formats:\n",
    "\n",
    "+ mRS distributions: must be a pandas DataFrame with:\n",
    "  + columns for each mRS from 0 to 6 inclusive, named just as in the imported table above\n",
    "  + rows for each group named just as in the imported table above\n",
    "  + values between 0 and 1.\n",
    "  \n",
    "+ utility weights: must be a numpy array with:\n",
    "  + shape (7,), i.e. a one-dimensional array containing one value for each mRS from 0 to 6 inclusive\n",
    "  + values consistent with a utility of 1 for full health and a utility of 0 for death.\n",
    "  \n",
    "If the custom mRS distributions use different times of no effect, make sure that the new times are passed into the outcome model when it is initialised."
   ]
  },
  {
   "cell_type": "markdown",
   "id": "defe25ab-a29f-4758-8db7-655aaf3e5a1a",
   "metadata": {},
   "source": [
    "## Create patient data\n",
    "\n",
    "The model needs the following data as inputs, with one value per patient in each array:\n",
    "\n",
    "| Data | Units | Data type | Name |\n",
    "| --- | --- | --- | --- |\n",
    "| Stroke type code | 0=other, 1=nLVO, 2=LVO | int | `stroke_type_code` |\n",
    "| Onset to needle time | minutes | float | `onset_to_needle_mins` |\n",
    "| Whether IVT was chosen | 1=True, 0=False | int or bool | `ivt_chosen_bool` |\n",
    "| Onset to puncture time | minutes | float | `onset_to_puncture_mins` |\n",
    "| Whether MT was chosen | 1=True, 0=False | int or bool | `mt_chosen_bool` |\n",
    "| \\* Pre-stroke mRS score | mRS score | int | `mrs_pre_stroke` |\n",
    "| \\* \"x\" ??? | None | float | `x_pre_stroke` |\n",
    "\n",
    "\\* Either the pre-stroke mRS score or the \"x\" score should be provided. If both are given, the \"x\" score is prioritised and the mRS score is discarded.\n",
    "\n",
    "These are expected in a dictionary (or a pandas DataFrame? check this). For example:"
   ]
  },
  {
   "cell_type": "code",
   "execution_count": 9,
   "id": "dec529de-e40d-4446-8248-3a706e77bb6d",
   "metadata": {},
   "outputs": [],
   "source": [
    "# Set random seed for repeatability:\n",
    "np.random.seed(42)\n",
    "\n",
    "# All patients share these same treatment times:\n",
    "time_to_ivt_mins = 90.0\n",
    "time_to_mt_mins = 120.0\n",
    "\n",
    "# Numbers of patients with each stroke type:\n",
    "n_nlvo = 65\n",
    "n_lvo = 35\n",
    "n_total = n_lvo + n_nlvo\n",
    "\n",
    "# Store the patient details in this dictionary:\n",
    "outcome_inputs_dict = dict(\n",
    "    # Mix of LVO and nLVO:\n",
    "    stroke_type_code=np.array([2]*n_lvo + [1]*n_nlvo),\n",
    "    # Onset to needle time is fixed to 90mins:\n",
    "    onset_to_needle_mins=np.full(n_total, time_to_ivt_mins),\n",
    "    # Randomly pick whether IVT is chosen with around 15% yes: \n",
    "    ivt_chosen_bool=np.random.binomial(1, 0.15, n_total) == 1,\n",
    "    # Onset to puncture time is fixed to 120mins:\n",
    "    onset_to_puncture_mins=np.full(n_total, time_to_mt_mins),\n",
    "    # Randomly pick whether MT is chosen for LVOs with around 30% yes:\n",
    "    mt_chosen_bool=np.concatenate(\n",
    "        (np.random.binomial(1, 0.3, n_lvo), [0]*n_nlvo)) == 1,\n",
    "    # Randomly pick some pre-stroke mRS scores from 0 to 5:\n",
    "    mrs_pre_stroke=np.random.choice(np.arange(6), size=n_total)\n",
    ")"
   ]
  },
  {
   "cell_type": "markdown",
   "id": "73c8373e-deb0-4bb8-af7e-f53584fe81ab",
   "metadata": {},
   "source": [
    "Convert this to a DataFrame for easier viewing:"
   ]
  },
  {
   "cell_type": "code",
   "execution_count": 10,
   "id": "193e29e1-db09-4308-8d98-717ec4cdd024",
   "metadata": {},
   "outputs": [
    {
     "data": {
      "text/html": [
       "<div>\n",
       "<style scoped>\n",
       "    .dataframe tbody tr th:only-of-type {\n",
       "        vertical-align: middle;\n",
       "    }\n",
       "\n",
       "    .dataframe tbody tr th {\n",
       "        vertical-align: top;\n",
       "    }\n",
       "\n",
       "    .dataframe thead th {\n",
       "        text-align: right;\n",
       "    }\n",
       "</style>\n",
       "<table border=\"1\" class=\"dataframe\">\n",
       "  <thead>\n",
       "    <tr style=\"text-align: right;\">\n",
       "      <th></th>\n",
       "      <th>0</th>\n",
       "      <th>1</th>\n",
       "      <th>2</th>\n",
       "      <th>3</th>\n",
       "      <th>4</th>\n",
       "      <th>5</th>\n",
       "      <th>6</th>\n",
       "      <th>7</th>\n",
       "      <th>8</th>\n",
       "      <th>9</th>\n",
       "    </tr>\n",
       "  </thead>\n",
       "  <tbody>\n",
       "    <tr>\n",
       "      <th>stroke_type_code</th>\n",
       "      <td>2</td>\n",
       "      <td>2</td>\n",
       "      <td>2</td>\n",
       "      <td>2</td>\n",
       "      <td>2</td>\n",
       "      <td>2</td>\n",
       "      <td>2</td>\n",
       "      <td>2</td>\n",
       "      <td>2</td>\n",
       "      <td>2</td>\n",
       "    </tr>\n",
       "    <tr>\n",
       "      <th>onset_to_needle_mins</th>\n",
       "      <td>90.0</td>\n",
       "      <td>90.0</td>\n",
       "      <td>90.0</td>\n",
       "      <td>90.0</td>\n",
       "      <td>90.0</td>\n",
       "      <td>90.0</td>\n",
       "      <td>90.0</td>\n",
       "      <td>90.0</td>\n",
       "      <td>90.0</td>\n",
       "      <td>90.0</td>\n",
       "    </tr>\n",
       "    <tr>\n",
       "      <th>ivt_chosen_bool</th>\n",
       "      <td>False</td>\n",
       "      <td>True</td>\n",
       "      <td>False</td>\n",
       "      <td>False</td>\n",
       "      <td>False</td>\n",
       "      <td>False</td>\n",
       "      <td>False</td>\n",
       "      <td>True</td>\n",
       "      <td>False</td>\n",
       "      <td>False</td>\n",
       "    </tr>\n",
       "    <tr>\n",
       "      <th>onset_to_puncture_mins</th>\n",
       "      <td>120.0</td>\n",
       "      <td>120.0</td>\n",
       "      <td>120.0</td>\n",
       "      <td>120.0</td>\n",
       "      <td>120.0</td>\n",
       "      <td>120.0</td>\n",
       "      <td>120.0</td>\n",
       "      <td>120.0</td>\n",
       "      <td>120.0</td>\n",
       "      <td>120.0</td>\n",
       "    </tr>\n",
       "    <tr>\n",
       "      <th>mt_chosen_bool</th>\n",
       "      <td>False</td>\n",
       "      <td>False</td>\n",
       "      <td>False</td>\n",
       "      <td>False</td>\n",
       "      <td>True</td>\n",
       "      <td>False</td>\n",
       "      <td>False</td>\n",
       "      <td>True</td>\n",
       "      <td>False</td>\n",
       "      <td>False</td>\n",
       "    </tr>\n",
       "    <tr>\n",
       "      <th>mrs_pre_stroke</th>\n",
       "      <td>5</td>\n",
       "      <td>0</td>\n",
       "      <td>3</td>\n",
       "      <td>0</td>\n",
       "      <td>5</td>\n",
       "      <td>0</td>\n",
       "      <td>1</td>\n",
       "      <td>3</td>\n",
       "      <td>3</td>\n",
       "      <td>5</td>\n",
       "    </tr>\n",
       "  </tbody>\n",
       "</table>\n",
       "</div>"
      ],
      "text/plain": [
       "                            0      1      2      3      4      5      6  \\\n",
       "stroke_type_code            2      2      2      2      2      2      2   \n",
       "onset_to_needle_mins     90.0   90.0   90.0   90.0   90.0   90.0   90.0   \n",
       "ivt_chosen_bool         False   True  False  False  False  False  False   \n",
       "onset_to_puncture_mins  120.0  120.0  120.0  120.0  120.0  120.0  120.0   \n",
       "mt_chosen_bool          False  False  False  False   True  False  False   \n",
       "mrs_pre_stroke              5      0      3      0      5      0      1   \n",
       "\n",
       "                            7      8      9  \n",
       "stroke_type_code            2      2      2  \n",
       "onset_to_needle_mins     90.0   90.0   90.0  \n",
       "ivt_chosen_bool          True  False  False  \n",
       "onset_to_puncture_mins  120.0  120.0  120.0  \n",
       "mt_chosen_bool           True  False  False  \n",
       "mrs_pre_stroke              3      3      5  "
      ]
     },
     "execution_count": 10,
     "metadata": {},
     "output_type": "execute_result"
    }
   ],
   "source": [
    "# Pop them into a dataframe:\n",
    "outcome_inputs_df = pd.DataFrame(\n",
    "    np.array(list(outcome_inputs_dict.values()), dtype=object).T,\n",
    "    columns=outcome_inputs_dict.keys(),\n",
    ")\n",
    "\n",
    "# Show the first ten patients' details:\n",
    "outcome_inputs_df.head(10).T"
   ]
  },
  {
   "cell_type": "markdown",
   "id": "e407bb3e-99e4-4cf4-b057-c0d295424514",
   "metadata": {},
   "source": [
    "Note: even though all patients here have valid treatment times, the model only uses the times for patients who answer `True` in the treatment chosen arrays."
   ]
  },
  {
   "cell_type": "markdown",
   "id": "0ceb9a20-2b1f-4143-bf1c-96dadc21cd2d",
   "metadata": {},
   "source": [
    "## Run the discrete outcome model\n",
    "\n",
    "Initiate the outcome model object:"
   ]
  },
  {
   "cell_type": "code",
   "execution_count": 11,
   "id": "99f8086a-d5f2-4036-9cb9-843f3a60404c",
   "metadata": {},
   "outputs": [],
   "source": [
    "discrete_outcome = Discrete_outcome(\n",
    "    mrs_dists,\n",
    "    n_total,\n",
    "    utility_weights,\n",
    "    # ivt_time_no_effect_mins=378.0,\n",
    "    # mt_time_no_effect_mins=480.0\n",
    ")"
   ]
  },
  {
   "cell_type": "markdown",
   "id": "43494890-12f2-4ba9-8cdf-8b8563610fa0",
   "metadata": {},
   "source": [
    "The model is expecting to receive patient data for some of the keys in the `trial` dictionary:"
   ]
  },
  {
   "cell_type": "code",
   "execution_count": 12,
   "id": "34bb32e2-2020-4c3e-bb1c-5558315624af",
   "metadata": {},
   "outputs": [
    {
     "name": "stdout",
     "output_type": "stream",
     "text": [
      "stroke_type_code\n",
      "onset_to_needle_mins\n",
      "ivt_chosen_bool\n",
      "ivt_no_effect_bool\n",
      "onset_to_puncture_mins\n",
      "mt_chosen_bool\n",
      "mt_no_effect_bool\n",
      "mrs_pre_stroke\n",
      "x_pre_stroke\n"
     ]
    }
   ],
   "source": [
    "for key in discrete_outcome.trial.keys():\n",
    "    print(key)"
   ]
  },
  {
   "cell_type": "markdown",
   "id": "3e95b925-f05e-4e6e-b170-cd1e7a7a48af",
   "metadata": {},
   "source": [
    "We don't need to define `ivt_no_effect_bool` and `mt_no_effect_bool` because they are created when the outcomes are calculated. Those two arrays record whether each patient was treated after the time of no effect.\n",
    "\n",
    "If `x_pre_stroke` is provided, it will be used to calculate new values for `mrs_pre_stroke`. Otherwise, if `x_pre_stroke` is not provided, it will be calculated from the `mrs_pre_stroke` values."
   ]
  },
  {
   "cell_type": "code",
   "execution_count": 13,
   "id": "49cbfdfc-781f-4849-8de3-d89dfcfea636",
   "metadata": {},
   "outputs": [],
   "source": [
    "# Import patient array data into a dictionary called \"trial\".\n",
    "for key in discrete_outcome.trial.keys():\n",
    "    if key in outcome_inputs_df:\n",
    "        discrete_outcome.trial[key].data = outcome_inputs_dict[key]\n",
    "\n",
    "# Calculate outcomes:\n",
    "outcomes_by_stroke_type, full_cohort_outcomes = (\n",
    "    discrete_outcome.calculate_outcomes())\n",
    "\n",
    "# Make a copy of the results:\n",
    "outcomes_by_stroke_type = copy.copy(outcomes_by_stroke_type)\n",
    "full_cohort_outcomes = copy.copy(full_cohort_outcomes)"
   ]
  },
  {
   "cell_type": "markdown",
   "id": "038235eb-ba53-4306-8c3a-c0ee22f04e8e",
   "metadata": {},
   "source": [
    "Notes: \n",
    "+ Custom times of no effect for thrombolysis and thrombectomy can be passed into the model. The default values match the mRS distributions imported from file earlier.\n",
    "+ The syntax `trial[key].data` makes the patient data pass through a series of sanity checks in the class. The checks make sure that the data is of the expected type and sits in the expected range.\n",
    "+ A copy is made of the output results as currently the original results can be overwritten when a new instance of the `Discrete_outcome` class is created."
   ]
  },
  {
   "cell_type": "markdown",
   "id": "c961f0d8-cdfa-4fdc-be8a-a8bc83183e39",
   "metadata": {
    "tags": []
   },
   "source": [
    "## Results\n",
    "\n",
    "The main function returns two sets of results, which we've called `outcomes_by_stroke_type` and `full_cohort_outcomes`. Both are dictionaries and hold similar information. The important difference is that `outcomes_by_stroke_type` contains separate information for each occlusion and treatment type, and that  `full_cohort_outcomes` contains one set of information that matches the input patient types."
   ]
  },
  {
   "cell_type": "markdown",
   "id": "78e04819-2a09-4147-928e-302bf0914762",
   "metadata": {},
   "source": [
    "`outcomes_by_stroke_type` contains the following keys for each of `lvo_ivt`, `lvo_mt`, and `nlvo_ivt`:"
   ]
  },
  {
   "cell_type": "code",
   "execution_count": 14,
   "id": "5c3ace3f-a838-49ab-9433-93d1d945637d",
   "metadata": {},
   "outputs": [
    {
     "name": "stdout",
     "output_type": "stream",
     "text": [
      "+ each_patient_post_stroke_mrs_dist\n",
      "+ each_patient_mrs_not_treated\n",
      "+ each_patient_mrs_post_stroke\n",
      "+ each_patient_utility_not_treated\n",
      "+ each_patient_utility_post_stroke\n",
      "+ each_patient_mrs_shift\n",
      "+ each_patient_utility_shift\n",
      "+ valid_patients_mean_mrs_post_stroke\n",
      "+ valid_patients_mean_mrs_shift\n",
      "+ valid_patients_mean_utility_post_stroke\n",
      "+ valid_patients_mean_utility_shift\n",
      "+ treated_patients_mean_mrs_post_stroke\n",
      "+ treated_patients_mean_mrs_shift\n",
      "+ treated_patients_mean_utility_post_stroke\n",
      "+ treated_patients_mean_utility_shift\n",
      "+ improved_patients_mean_mrs_post_stroke\n",
      "+ improved_patients_mean_mrs_shift\n",
      "+ improved_patients_mean_utility_post_stroke\n",
      "+ improved_patients_mean_utility_shift\n",
      "+ proportion_of_valid_patients_who_improved\n",
      "+ proportion_of_treated_patients_who_improved\n"
     ]
    }
   ],
   "source": [
    "separate_keys = list(outcomes_by_stroke_type.keys())\n",
    "\n",
    "for key in separate_keys[:len(separate_keys)//3]:\n",
    "    short_key = '_'.join(key.split('_')[2:])  # Remove lvo_ivt label\n",
    "    print('+ ' + short_key) "
   ]
  },
  {
   "cell_type": "markdown",
   "id": "e65a7d95-1736-4639-8e63-1205cca83a90",
   "metadata": {},
   "source": [
    "`full_cohort_outcomes` combines the three subgroups back into one big array in the same order as the input data. It contains:"
   ]
  },
  {
   "cell_type": "code",
   "execution_count": 15,
   "id": "f9b8035f",
   "metadata": {},
   "outputs": [
    {
     "name": "stdout",
     "output_type": "stream",
     "text": [
      "+ each_patient_post_stroke_mrs_dist\n",
      "+ each_patient_post_stroke_mrs\n",
      "+ each_patient_mrs_shift\n",
      "+ each_patient_utility_post_stroke\n",
      "+ each_patient_utility_shift\n",
      "+ post_stroke_mean_mrs\n",
      "+ mean_mrs_shift\n",
      "+ mean_utility\n",
      "+ mean_added_utility\n"
     ]
    }
   ],
   "source": [
    "full_cohort_keys = list(full_cohort_outcomes.keys())\n",
    "\n",
    "for key in full_cohort_keys:\n",
    "    print('+ ' + key)"
   ]
  },
  {
   "cell_type": "markdown",
   "id": "39345cac-52d0-48d8-ba04-ca34e91a571b",
   "metadata": {},
   "source": [
    "### Example: mean mRS shift"
   ]
  },
  {
   "cell_type": "markdown",
   "id": "248e5718-0be8-49e9-9fde-515b18cc321a",
   "metadata": {},
   "source": [
    "The mean mRS shift is stored in various different ways depending on what exactly you want to measure. In the separate subgroups, you can see the mean mRS shift for only the patients who were treated:"
   ]
  },
  {
   "cell_type": "code",
   "execution_count": 17,
   "id": "32815524-728d-4856-942d-ec16d857dfa5",
   "metadata": {},
   "outputs": [
    {
     "name": "stdout",
     "output_type": "stream",
     "text": [
      "-0.500\n",
      "-0.200\n",
      "-0.833\n"
     ]
    }
   ],
   "source": [
    "# Separate subgroup results:\n",
    "keys_to_print = [\n",
    "    'nlvo_ivt_treated_patients_mean_mrs_shift',\n",
    "    'lvo_ivt_treated_patients_mean_mrs_shift',\n",
    "    'lvo_mt_treated_patients_mean_mrs_shift',\n",
    "]\n",
    "for key in keys_to_print:\n",
    "    print(f'{outcomes_by_stroke_type[key]:.3f}')"
   ]
  },
  {
   "cell_type": "markdown",
   "id": "67ef79a2-6b4a-48f5-9189-b0a2d5171c0a",
   "metadata": {},
   "source": [
    "In the combined full cohort results, you can see the mean mRS shift for each patient separately:"
   ]
  },
  {
   "cell_type": "code",
   "execution_count": 19,
   "id": "d49370f7-cc33-48eb-b90c-67fa18f6de37",
   "metadata": {},
   "outputs": [
    {
     "data": {
      "text/plain": [
       "array([ 0.,  0.,  0.,  0.,  0.,  0.,  0., -1.,  0.,  0.,  0.,  0., -1.,\n",
       "        0.,  0., -1., -1.,  0., -2.,  0., -1.,  0.,  0.,  0.,  0.,  0.,\n",
       "        0., -2.,  0.,  0.,  0.,  0.,  0.,  0., -1.,  0.,  0.,  0.,  0.,\n",
       "        0.,  0.,  0.,  0.,  0.,  0.,  0.,  0.,  0.,  0.,  0., -1.,  0.,\n",
       "        0., -1.,  0., -1.,  0.,  0.,  0.,  0.,  0.,  0.,  0.,  0.,  0.,\n",
       "        0.,  0.,  0.,  0.,  0.,  0.,  0.,  0.,  0.,  0.,  0.,  0.,  0.,\n",
       "        0.,  0.,  0.,  0.,  0.,  0.,  0.,  0.,  0.,  0., -1.,  0.,  0.,\n",
       "        0.,  0.,  0.,  0.,  0.,  0.,  0.,  0.,  0.])"
      ]
     },
     "execution_count": 19,
     "metadata": {},
     "output_type": "execute_result"
    }
   ],
   "source": [
    "# Combined full cohort results:\n",
    "full_cohort_outcomes['each_patient_mrs_shift']"
   ]
  },
  {
   "cell_type": "markdown",
   "id": "cf6d7cf0-9a3e-432a-bbeb-e77471864cca",
   "metadata": {},
   "source": [
    "There is also a full cohort mean mRS shift value..."
   ]
  },
  {
   "cell_type": "code",
   "execution_count": 20,
   "id": "1c418f5f-0c32-476b-b506-25abd7055839",
   "metadata": {},
   "outputs": [
    {
     "name": "stdout",
     "output_type": "stream",
     "text": [
      "-0.140\n"
     ]
    }
   ],
   "source": [
    "print(f\"{full_cohort_outcomes['mean_mrs_shift']:.3f}\")"
   ]
  },
  {
   "cell_type": "markdown",
   "id": "a5eb1471-478a-44ec-b13e-8de0208ce5b6",
   "metadata": {},
   "source": [
    "... which is the mean of all values in the previous array including the zeroes. This might not be as useful a metric as the three separate mean mRS shifts from the nLVO+IVT, LVO+IVT, and LVO+MT subgroups."
   ]
  }
 ],
 "metadata": {
  "kernelspec": {
   "display_name": "Python 3 (ipykernel)",
   "language": "python",
   "name": "python3"
  },
  "language_info": {
   "codemirror_mode": {
    "name": "ipython",
    "version": 3
   },
   "file_extension": ".py",
   "mimetype": "text/x-python",
   "name": "python",
   "nbconvert_exporter": "python",
   "pygments_lexer": "ipython3",
   "version": "3.9.16"
  }
 },
 "nbformat": 4,
 "nbformat_minor": 5
}
