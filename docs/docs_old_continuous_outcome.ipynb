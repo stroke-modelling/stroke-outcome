{
 "cells": [
  {
   "cell_type": "markdown",
   "id": "5454cda0-cc95-479a-81ae-7db028cbce90",
   "metadata": {
    "tags": []
   },
   "source": [
    "# Clinical outcome worked example\n",
    "\n",
    "This notebook describes how the clinical outcome model works.\n",
    "\n",
    "mRS: modified Rankin scale\n",
    "\n",
    "Summary of the method:\n",
    "1. Import the base mRS distributions and calculate their mean mRS and utilities\n",
    "2. Gather the patient pathway data\n",
    "3. Calculate the patient outcomes by stroke type and treatment\n",
    "4. Combine the patient subgroups to match the input patient array"
   ]
  },
  {
   "cell_type": "markdown",
   "id": "16e482be-1b7f-403a-bee6-b84ee233d0d3",
   "metadata": {},
   "source": [
    "## Base outcomes and means"
   ]
  },
  {
   "cell_type": "markdown",
   "id": "4ec0d086-94d2-4d00-a3bf-b10efb49b6f2",
   "metadata": {},
   "source": [
    "The outcome model uses the following usual probability distributions of modified Rankin scale (mRS):\n",
    "\n",
    "![](clinical_outcome_worked_example/input_mrs_dists.png)\n",
    "\n",
    "The extra blocks on the right-hand-side show the mean mRS across each distribution. The mRS distributions are also converted to utility-weighted distributions, and the mean of each of these is also shown on the right.\n",
    "\n",
    "The mean mRS and mean utility values use these colours:\n",
    "\n",
    "![](clinical_outcome_worked_example/colour_scales.png)\n",
    "\n",
    "Incidentally the continuous mRS colours look minging and are given more for an idea of the mean mRS rather than seriously reading colours from this colour scale.\n",
    "\n",
    "The conversion between mRS and utility is as follows:\n",
    "| mRS $x$: | 0 | 1 | 2 | 3 | 4 | 5 | 6 | \n",
    "| --- | --- | --- | --- | --- | --- | --- | --- |\n",
    "| Utility $u(x)$: | 0.97 | 0.88 | 0.74 | 0.55 | 0.20 | -0.19 | 0.00 |\n",
    "\n",
    "### Calculating mean mRS and utility\n",
    "\n",
    "The mean mRS, $\\bar{x}$, of a probability distribution is found by multiplying each mRS value by the probability of that mRS value in the distribution, and then summing all of those values:\n",
    "\n",
    "$$\\bar{x} = \\sum\\limits_{x=0}^{6} [P(\\mathrm{mRS}=x) \\times x]$$\n",
    "\n",
    "For mRS between 0 and 6 this is written in full as:\n",
    "\n",
    "\\begin{align*}\n",
    "\\bar{x} = \\{ & [P(\\mathrm{mRS}=0) \\times 0] + \\\\\n",
    "& [P(\\mathrm{mRS}=1) \\times 1] + \\\\\n",
    "& [P(\\mathrm{mRS}=2) \\times 2] + \\\\\n",
    "& [P(\\mathrm{mRS}=3) \\times 3] + \\\\\n",
    "& [P(\\mathrm{mRS}=4) \\times 4] + \\\\\n",
    "& [P(\\mathrm{mRS}=5) \\times 5] + \\\\\n",
    "& [P(\\mathrm{mRS}=6) \\times 6] \\} \n",
    "\\end{align*}\n",
    "\n",
    "Mean utility $\\bar{u}$ is calculated in a similar way, except the probability of each mRS value $x$ is multiplied by the utility $u$ of that mRS value from the table above:\n",
    "\n",
    "$$\\bar{u} = \\sum\\limits_{x=0}^{6} [P(\\mathrm{mRS}=x) \\times u(\\mathrm{mRS}=x)]$$\n",
    "\n",
    "In full:\n",
    "\n",
    "\\begin{align*}\n",
    "\\bar{u} = \\{ & [P(\\mathrm{mRS}=0) \\times 0.97] + \\\\\n",
    "& [P(\\mathrm{mRS}=1) \\times 0.88] + \\\\\n",
    "& [P(\\mathrm{mRS}=2) \\times 0.74] + \\\\\n",
    "& [P(\\mathrm{mRS}=3) \\times 0.55] + \\\\\n",
    "& [P(\\mathrm{mRS}=4) \\times 0.20] + \\\\\n",
    "& [P(\\mathrm{mRS}=5) \\times -0.19] + \\\\\n",
    "& [P(\\mathrm{mRS}=6) \\times 0.00] \\} \n",
    "\\end{align*}\n",
    "\n",
    "The values in the mRS probability distribution sum to exactly one so there is no need to further divide these means by the size of the population."
   ]
  },
  {
   "cell_type": "markdown",
   "id": "63d66d00-fa26-4601-b3b0-532b83493610",
   "metadata": {},
   "source": [
    "For example, the nLVO pre-stroke mRS distribution is:\n",
    "\n",
    "| mRS<=0 | mRS<=1 | mRS<=2 | mRS<=3 | mRS<=4 | mRS<=5 | mRS<=6 | \n",
    "| --- | --- | --- | --- | --- | --- | --- |\n",
    "| 0.582881 | 0.745419 | 0.848859 | 0.951082 | 0.993055 | 1.00 | 1.00 |\n",
    "\n",
    "\n",
    "| mRS=0 | mRS=1 | mRS=2 | mRS=3 | mRS=4 | mRS=5 | mRS=6 | \n",
    "| --- | --- | --- | --- | --- | --- | --- |\n",
    "| 0.582881 | 0.162538 | 0.10344 | 0.102223 | 0.041973 | 0.006945 | 0.0000 |\n",
    "\n",
    "\n",
    "Mean mRS, $\\bar{x}$:\n",
    "\n",
    "\\begin{align*}\n",
    "\\bar{x} = \\{ & [0.58 \\times 0] + \\\\\n",
    "&[0.16 \\times 1] + \\\\\n",
    "& [0.10 \\times 2] + \\\\\n",
    "& [0.10 \\times 3] + \\\\\n",
    "& [0.04 \\times 4] + \\\\\n",
    "& [0.01 \\times 5] + \\\\\n",
    "& [0.00 \\times 6] \\} \\\\\n",
    "\\bar{x} = & 0.88\n",
    "\\end{align*}\n",
    "\n",
    "\n",
    "Mean utility, $\\bar{u}$:\n",
    "\n",
    "\\begin{align*}\n",
    "\\bar{u} = \\{ & [0.58 \\times 0.97] + \\\\\n",
    "& [0.16 \\times 0.88] + \\\\\n",
    "& [0.10 \\times 0.74] + \\\\\n",
    "& [0.10 \\times 0.55] + \\\\\n",
    "& [0.04 \\times 0.20] + \\\\\n",
    "& [0.01 \\times -0.19] + \\\\\n",
    "& [0.00 \\times 0.00] \\} \\\\\n",
    "\\bar{u} = & 0.85\n",
    "\\end{align*}"
   ]
  },
  {
   "cell_type": "markdown",
   "id": "72dd153d-b6b8-423e-97c0-b223c1b9636d",
   "metadata": {},
   "source": [
    "### Notes\n",
    "\n",
    "The pre-stroke and no-treatment distributions are identical for all LVO patients regardless of whether IVT and/or MT were considered.\n",
    "\n",
    "The median (not mean!!) mRS is the value where cumulative probability is 0.5. \n",
    "\n",
    "### Code reference\n",
    "\n",
    "Given a cumulative mRS probability distribution, the mean mRS and utility are calculated by:"
   ]
  },
  {
   "cell_type": "raw",
   "id": "12416f55-77fa-44fc-a8bd-9981117b6dff",
   "metadata": {},
   "source": [
    "# Utility weightings for mRS 0-6:\n",
    "utility_weights = np.array([0.97, 0.88, 0.74, 0.55, 0.20, -0.19, 0.00])\n",
    "\n",
    "# 7 values, one per mRS:\n",
    "cumulative_mRS_dist = np.array([0.582881, 0.745419, 0.848859, 0.951082, 0.993055, 1.0, 1.0])\n",
    "\n",
    "# 7 values, one per mRS:\n",
    "non_cumulative_mRS_dist = np.diff(cumulative_mRS_dist, prepend=0)\n",
    "\n",
    "# 1 value:\n",
    "mean_mRS = np.sum(non_cumulative_mRS_dist * np.arange(7))\n",
    "\n",
    "# 1 value:\n",
    "mean_utility = np.sum(non_cumulative_mRS_dist * utility_weights)"
   ]
  },
  {
   "cell_type": "markdown",
   "id": "46e5d4f8-a6b5-448a-94e7-b74fe0ec99ed",
   "metadata": {},
   "source": [
    "## Example patient pathway results\n",
    "\n",
    "The outcome model needs the following information with one value for each patient:\n",
    "\n",
    "+ Stroke type (code, 0=other, 1=nLVO, 2=LVO)\n",
    "+ Onset to needle time (minutes)\n",
    "+ Whether IVT was chosen (True or False)\n",
    "+ Onset to puncture time (minutes)\n",
    "+ Whether MT was chosen (True or False)\n",
    "\n",
    "These values can be generated from the `SSNAP_Pathway` class. This worked example uses 100 patients generated from that pathway.\n",
    "\n",
    "Summary of the stroke types and treatments given:\n",
    "\n",
    "![](clinical_outcome_worked_example/patient_input_stats.png)"
   ]
  },
  {
   "cell_type": "markdown",
   "id": "608fd5d9-3718-4333-8f5f-9ab7b4305c7b",
   "metadata": {},
   "source": [
    "## Calculate outcomes\n",
    "\n",
    "The outcomes are calculated separately for the three categories (nLVO with IVT, LVO with IVT, and LVO with MT) because they use separate probability distributions that vary differently with time.\n",
    "\n",
    "These results are calculated in this way for the following categories of patient:\n",
    "+ nLVO treated with IVT  - in this example, contains 7 patients\n",
    "+ LVO treated with IVT - in this example, contains 2 patients\n",
    "+ LVO treated with MT - in this example, contains 3 patients\n",
    "\n",
    "The quantities calculated are:\n",
    "+ Each patient's post-stroke mRS distribution\n",
    "+ Each patient's post-stroke mean mRS and utility\n",
    "+ Each patient's mean shift in mRS and utility between the post-stroke and no-treatment distributions\n",
    "+ The mean of all treated patients' mean shifts in mRS and utility\n",
    "\n",
    "Also stored in the same place for easy reference are:\n",
    "+ Mean mRS and utility for the no-treatment population\n",
    "+ Mean mRS and utility for the population treated after the time of no effect\n",
    "\n",
    "### Results for all patients with nLVO and treated with nLVO on time\n",
    "\n",
    "For nLVO with IVT, the post-stroke probability distributions for the treated patients in this example are:\n",
    "\n",
    "![](clinical_outcome_worked_example/mrs_dists_treated_nlvo_ivt.png)"
   ]
  },
  {
   "cell_type": "markdown",
   "id": "adda8e70-04a7-4ca7-aced-5a8452c49ed7",
   "metadata": {},
   "source": [
    "### Results for all patients treated on time\n",
    "\n",
    "The shifts in mRS and utility for all treated patients and for all stroke and treatment types are summarised on the following graphs. Each black arrow represents one patient, and the length of the arrow shows the shift between the no-treatment value and the mean value at the patient's treatment time.\n",
    "\n",
    "![](clinical_outcome_worked_example/times_shifts_mrs_combo.png)\n",
    "![](clinical_outcome_worked_example/times_shifts_utility_combo.png)\n",
    "\n"
   ]
  },
  {
   "cell_type": "markdown",
   "id": "45ffe030-c422-4472-8420-1fee80b666d2",
   "metadata": {},
   "source": [
    "### Code reference:\n",
    "\n",
    "These results are calculated in:\n",
    "+ `calculate_outcomes_for_nlvo_ivt()`\n",
    "+ `calculate_outcomes_for_lvo_ivt()`\n",
    "+ `calculate_outcomes_for_lvo_mt()`\n",
    "\n",
    "Each of these calculates the bulk of the useful results in the function `_create_mrs_utility_dict()`. \n",
    "\n",
    "In each case, the generated arrays still contain one value per patient in the whole cohort but invalid patients have values of `np.NaN` (Not A Number). These are patients with a different stroke type. Patients who use the no-treatment or no-effect distributions are given those values here instead of `np.NaN`."
   ]
  },
  {
   "cell_type": "markdown",
   "id": "e4815268-58e2-45bc-a2b3-a13b4ed4748d",
   "metadata": {},
   "source": [
    "## Combine results for patient array\n",
    "\n",
    "The final step is to combine all of the separate patient subgroups into one big set of data that matches the input details. So if you provide the clinical outcome model with 100 patients' details, the 10th patient in your input list will have their results stored 10th in the output lists.\n",
    "\n",
    "Various averages and statisics are calculated across this whole cohort dataset, but they may or may not be as useful as keeping the subgroups separate. These values are:\n",
    "+ Mean post-stroke mRS\n",
    "+ Mean shift from no-treatment mRS to post-stroke mRS\n",
    "+ Mean post-stroke utility\n",
    "+ Mean shift from no-treatment utility to post-stroke utility\n",
    "\n",
    "\n",
    "Patients who do not receive treatment use the no-treatment distribution from the input mRS distributions. \n",
    "Patients who receive treatment after the no-effect time use the no-effect distribution from the input mRS distributions."
   ]
  },
  {
   "cell_type": "markdown",
   "id": "871d0e00-625a-4496-8e62-02d479e38a11",
   "metadata": {},
   "source": [
    "### Code reference\n",
    "\n",
    "The three separate subgroups (nLVO and IVT, LVO and IVT, LVO and MT) are combined in `_calculate_patient_outcomes()`.\n",
    "\n",
    "For each of these quantities...\n",
    "+ Each patient's post-stroke mRS distribution\n",
    "+ Each patient's post-stroke mean mRS\n",
    "+ Each patient's shift in mRS\n",
    "+ Each patient's post-stroke mean utility\n",
    "+ Each patient's shift in utility\n",
    "\n",
    "... a new array with size of the number of patients in the whole cohort is created. Then the values calculated earlier for each patient are placed into their allocated space, so that Patient X in the input arrays matches Patient X in the output. Any patients who were not treated receive either the values of the not-treated distributions or `np.NaN` (Not A Number) values if the stroke type is unknown. The `np.NaN` can be sidestepped in later calculations by using e.g. `np.nanmean()` instead of `np.mean()`."
   ]
  },
  {
   "cell_type": "markdown",
   "id": "21978ead-6dd0-4ec3-b293-9878d3a41e36",
   "metadata": {},
   "source": [
    "## Basic usage\n",
    "\n",
    "Assuming that `combo_trial_dict` contains arrays named the following...\n",
    "+ `stroke_type_code` \n",
    "+ `onset_to_needle_mins` \n",
    "+ `ivt_chosen_bool`\n",
    "+ `onset_to_puncture_mins`\n",
    "+ `mt_chosen_bool`\n",
    "\n",
    "... each with `number_of_patients` values of the expected data type and in the expected range."
   ]
  },
  {
   "cell_type": "raw",
   "id": "1a1d1016-e6e1-459a-b40c-0f99a0ff5604",
   "metadata": {},
   "source": [
    "# Initiate the outcome model object:\n",
    "clinical_outcome = Clinical_outcome(mrs_dists, number_of_patients)\n",
    "\n",
    "# Import patient array data:\n",
    "for key in clinical_outcome.trial.keys():\n",
    "    if key in combo_trial_dict:\n",
    "        clinical_outcome.trial[key].data = combo_trial_dict[key]\n",
    "\n",
    "# Calculate outcomes:\n",
    "results_by_stroke_type, patient_array_outcomes = clinical_outcome.calculate_outcomes()"
   ]
  }
 ],
 "metadata": {
  "kernelspec": {
   "display_name": "Python 3 (ipykernel)",
   "language": "python",
   "name": "python3"
  },
  "language_info": {
   "codemirror_mode": {
    "name": "ipython",
    "version": 3
   },
   "file_extension": ".py",
   "mimetype": "text/x-python",
   "name": "python",
   "nbconvert_exporter": "python",
   "pygments_lexer": "ipython3",
   "version": "3.9.16"
  }
 },
 "nbformat": 4,
 "nbformat_minor": 5
}
